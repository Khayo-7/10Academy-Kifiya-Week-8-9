{
 "cells": [
  {
   "cell_type": "code",
   "execution_count": 1,
   "metadata": {},
   "outputs": [],
   "source": [
    "%load_ext autoreload\n",
    "\n",
    "%autoreload 2"
   ]
  },
  {
   "cell_type": "code",
   "execution_count": 2,
   "metadata": {},
   "outputs": [],
   "source": [
    "import os, sys\n",
    "sys.path.append('..')\n",
    "\n",
    "from scripts.data_utils.loaders import load_data\n",
    "from scripts.modeling.data_preparation import preprocess_data, stratified_split\n",
    "from scripts.modeling.model_training import train_all_models\n",
    "from scripts.modeling.experiment_tracking import log_experiment\n",
    "\n",
    "DATAPATH = os.path.join('..', 'resources', 'data')"
   ]
  },
  {
   "cell_type": "code",
   "execution_count": 3,
   "metadata": {},
   "outputs": [
    {
     "name": "stdout",
     "output_type": "stream",
     "text": [
      "2025-02-17 15:06:30 - [✅ INFO] - Loading data from ..\\resources\\data\\processed\\fraud_processed.csv\n",
      "2025-02-17 15:06:31 - [✅ INFO] - Successfully loaded data from ..\\resources\\data\\processed\\fraud_processed.csv\n",
      "2025-02-17 15:06:31 - [✅ INFO] - Loading data from ..\\resources\\data\\creditcard.csv\n",
      "2025-02-17 15:06:35 - [✅ INFO] - Successfully loaded data from ..\\resources\\data\\creditcard.csv\n",
      "<class 'pandas.core.frame.DataFrame'>\n",
      "RangeIndex: 151112 entries, 0 to 151111\n",
      "Data columns (total 18 columns):\n",
      " #   Column                    Non-Null Count   Dtype  \n",
      "---  ------                    --------------   -----  \n",
      " 0   user_id                   151112 non-null  int64  \n",
      " 1   signup_time               151112 non-null  object \n",
      " 2   purchase_time             151112 non-null  object \n",
      " 3   purchase_value            151112 non-null  float64\n",
      " 4   device_id                 151112 non-null  object \n",
      " 5   source                    151112 non-null  int64  \n",
      " 6   browser                   151112 non-null  int64  \n",
      " 7   sex                       151112 non-null  int64  \n",
      " 8   age                       151112 non-null  int64  \n",
      " 9   ip_address                151112 non-null  int64  \n",
      " 10  class                     151112 non-null  int64  \n",
      " 11  country                   151112 non-null  int64  \n",
      " 12  hour_of_day               151112 non-null  float64\n",
      " 13  day_of_week               151112 non-null  float64\n",
      " 14  time_diff                 151112 non-null  float64\n",
      " 15  transaction_velocity      151112 non-null  float64\n",
      " 16  signup_to_purchase_hours  151112 non-null  float64\n",
      " 17  signup_delay_bucket       151112 non-null  int64  \n",
      "dtypes: float64(6), int64(9), object(3)\n",
      "memory usage: 20.8+ MB\n",
      "<class 'pandas.core.frame.DataFrame'>\n",
      "RangeIndex: 284807 entries, 0 to 284806\n",
      "Data columns (total 31 columns):\n",
      " #   Column  Non-Null Count   Dtype  \n",
      "---  ------  --------------   -----  \n",
      " 0   Time    284807 non-null  float64\n",
      " 1   V1      284807 non-null  float64\n",
      " 2   V2      284807 non-null  float64\n",
      " 3   V3      284807 non-null  float64\n",
      " 4   V4      284807 non-null  float64\n",
      " 5   V5      284807 non-null  float64\n",
      " 6   V6      284807 non-null  float64\n",
      " 7   V7      284807 non-null  float64\n",
      " 8   V8      284807 non-null  float64\n",
      " 9   V9      284807 non-null  float64\n",
      " 10  V10     284807 non-null  float64\n",
      " 11  V11     284807 non-null  float64\n",
      " 12  V12     284807 non-null  float64\n",
      " 13  V13     284807 non-null  float64\n",
      " 14  V14     284807 non-null  float64\n",
      " 15  V15     284807 non-null  float64\n",
      " 16  V16     284807 non-null  float64\n",
      " 17  V17     284807 non-null  float64\n",
      " 18  V18     284807 non-null  float64\n",
      " 19  V19     284807 non-null  float64\n",
      " 20  V20     284807 non-null  float64\n",
      " 21  V21     284807 non-null  float64\n",
      " 22  V22     284807 non-null  float64\n",
      " 23  V23     284807 non-null  float64\n",
      " 24  V24     284807 non-null  float64\n",
      " 25  V25     284807 non-null  float64\n",
      " 26  V26     284807 non-null  float64\n",
      " 27  V27     284807 non-null  float64\n",
      " 28  V28     284807 non-null  float64\n",
      " 29  Amount  284807 non-null  float64\n",
      " 30  Class   284807 non-null  int64  \n",
      "dtypes: float64(30), int64(1)\n",
      "memory usage: 67.4 MB\n"
     ]
    },
    {
     "data": {
      "text/plain": [
       "(None, None)"
      ]
     },
     "execution_count": 3,
     "metadata": {},
     "output_type": "execute_result"
    }
   ],
   "source": [
    "# Load datasets\n",
    "fraud_data_path = os.path.join(DATAPATH, 'processed', \"fraud_processed.csv\")\n",
    "credit_card_path = os.path.join(DATAPATH, \"creditcard.csv\")\n",
    "\n",
    "fraud_df = load_data(fraud_data_path)\n",
    "credit_df = load_data(credit_card_path)\n",
    "fraud_df.info(), credit_df.info()"
   ]
  },
  {
   "cell_type": "code",
   "execution_count": 13,
   "metadata": {},
   "outputs": [
    {
     "name": "stdout",
     "output_type": "stream",
     "text": [
      "<class 'pandas.core.frame.DataFrame'>\n",
      "RangeIndex: 151112 entries, 0 to 151111\n",
      "Data columns (total 18 columns):\n",
      " #   Column                    Non-Null Count   Dtype  \n",
      "---  ------                    --------------   -----  \n",
      " 0   user_id                   151112 non-null  int64  \n",
      " 1   signup_time               151112 non-null  object \n",
      " 2   purchase_time             151112 non-null  object \n",
      " 3   purchase_value            151112 non-null  float64\n",
      " 4   device_id                 151112 non-null  object \n",
      " 5   source                    151112 non-null  int64  \n",
      " 6   browser                   151112 non-null  int64  \n",
      " 7   sex                       151112 non-null  int64  \n",
      " 8   age                       151112 non-null  int64  \n",
      " 9   ip_address                151112 non-null  int64  \n",
      " 10  class                     151112 non-null  int64  \n",
      " 11  country                   151112 non-null  int64  \n",
      " 12  hour_of_day               151112 non-null  float64\n",
      " 13  day_of_week               151112 non-null  float64\n",
      " 14  time_diff                 151112 non-null  float64\n",
      " 15  transaction_velocity      151112 non-null  float64\n",
      " 16  signup_to_purchase_hours  151112 non-null  float64\n",
      " 17  signup_delay_bucket       151112 non-null  int64  \n",
      "dtypes: float64(6), int64(9), object(3)\n",
      "memory usage: 20.8+ MB\n"
     ]
    },
    {
     "data": {
      "text/plain": [
       "(None,\n",
       " Index(['user_id', 'signup_time', 'purchase_time', 'purchase_value',\n",
       "        'device_id', 'source', 'browser', 'sex', 'age', 'ip_address', 'class',\n",
       "        'country', 'hour_of_day', 'day_of_week', 'time_diff',\n",
       "        'transaction_velocity', 'signup_to_purchase_hours',\n",
       "        'signup_delay_bucket'],\n",
       "       dtype='object'))"
      ]
     },
     "execution_count": 13,
     "metadata": {},
     "output_type": "execute_result"
    }
   ],
   "source": [
    "fraud_df.info()"
   ]
  },
  {
   "cell_type": "code",
   "execution_count": 21,
   "metadata": {},
   "outputs": [
    {
     "data": {
      "text/plain": [
       "(        purchase_value  source  browser  sex  age  country  hour_of_day  \\\n",
       " 0             0.310345       2        0    0   25      171     0.434783   \n",
       " 1             0.220690       1        4    0   38      157     0.913043   \n",
       " 2             0.262069       2        0    1   25      171     0.478261   \n",
       " 3             0.365517       2        1    1   21      172     1.000000   \n",
       " 4             0.179310       0        4    1   19      107     0.869565   \n",
       " ...                ...     ...      ...  ...  ...      ...          ...   \n",
       " 151107        0.503448       1        4    1   59       60     0.304348   \n",
       " 151108        0.075862       1        2    0   37       64     0.304348   \n",
       " 151109        0.165517       1        1    0   35       84     1.000000   \n",
       " 151110        0.393103       1        0    1   48      171     0.869565   \n",
       " 151111        0.337931       0        0    1   25      171     0.260870   \n",
       " \n",
       "         day_of_week  time_diff  transaction_velocity  \\\n",
       " 0          0.833333        0.0                   0.0   \n",
       " 1          0.833333        0.0                   0.0   \n",
       " 2          0.500000        0.0                   0.0   \n",
       " 3          0.333333        0.0                   0.0   \n",
       " 4          0.333333        0.0                   0.0   \n",
       " ...             ...        ...                   ...   \n",
       " 151107     0.333333        0.0                   0.0   \n",
       " 151108     0.500000        0.0                   0.0   \n",
       " 151109     0.666667        0.0                   0.0   \n",
       " 151110     0.333333        0.0                   0.0   \n",
       " 151111     0.000000        0.0                   0.0   \n",
       " \n",
       "         signup_to_purchase_hours  signup_delay_bucket  \n",
       " 0                       0.343846                    4  \n",
       " 1                       0.968355                    4  \n",
       " 2                       0.643057                    4  \n",
       " 3                       0.035811                    4  \n",
       " 4                       0.446711                    4  \n",
       " ...                          ...                  ...  \n",
       " 151107                  0.979724                    4  \n",
       " 151108                  0.526247                    4  \n",
       " 151109                  0.731353                    4  \n",
       " 151110                  0.829138                    4  \n",
       " 151111                  0.285903                    4  \n",
       " \n",
       " [151112 rows x 12 columns],\n",
       " 0         0\n",
       " 1         0\n",
       " 2         0\n",
       " 3         0\n",
       " 4         0\n",
       "          ..\n",
       " 151107    0\n",
       " 151108    0\n",
       " 151109    0\n",
       " 151110    0\n",
       " 151111    1\n",
       " Name: class, Length: 151112, dtype: int64)"
      ]
     },
     "execution_count": 21,
     "metadata": {},
     "output_type": "execute_result"
    }
   ],
   "source": [
    "fraud_target = 'class'\n",
    "drop_columns = ['user_id', 'signup_time', 'purchase_time', 'device_id', 'ip_address']\n",
    "X_fraud, y_fraud = preprocess_data(fraud_df, fraud_target, drop_columns)\n",
    "X_fraud, y_fraud"
   ]
  },
  {
   "cell_type": "code",
   "execution_count": 23,
   "metadata": {},
   "outputs": [
    {
     "data": {
      "text/plain": [
       "(            Time         V1         V2        V3        V4        V5  \\\n",
       " 0            0.0  -1.359807  -0.072781  2.536347  1.378155 -0.338321   \n",
       " 1            0.0   1.191857   0.266151  0.166480  0.448154  0.060018   \n",
       " 2            1.0  -1.358354  -1.340163  1.773209  0.379780 -0.503198   \n",
       " 3            1.0  -0.966272  -0.185226  1.792993 -0.863291 -0.010309   \n",
       " 4            2.0  -1.158233   0.877737  1.548718  0.403034 -0.407193   \n",
       " ...          ...        ...        ...       ...       ...       ...   \n",
       " 284802  172786.0 -11.881118  10.071785 -9.834783 -2.066656 -5.364473   \n",
       " 284803  172787.0  -0.732789  -0.055080  2.035030 -0.738589  0.868229   \n",
       " 284804  172788.0   1.919565  -0.301254 -3.249640 -0.557828  2.630515   \n",
       " 284805  172788.0  -0.240440   0.530483  0.702510  0.689799 -0.377961   \n",
       " 284806  172792.0  -0.533413  -0.189733  0.703337 -0.506271 -0.012546   \n",
       " \n",
       "               V6        V7        V8        V9  ...       V20       V21  \\\n",
       " 0       0.462388  0.239599  0.098698  0.363787  ...  0.251412 -0.018307   \n",
       " 1      -0.082361 -0.078803  0.085102 -0.255425  ... -0.069083 -0.225775   \n",
       " 2       1.800499  0.791461  0.247676 -1.514654  ...  0.524980  0.247998   \n",
       " 3       1.247203  0.237609  0.377436 -1.387024  ... -0.208038 -0.108300   \n",
       " 4       0.095921  0.592941 -0.270533  0.817739  ...  0.408542 -0.009431   \n",
       " ...          ...       ...       ...       ...  ...       ...       ...   \n",
       " 284802 -2.606837 -4.918215  7.305334  1.914428  ...  1.475829  0.213454   \n",
       " 284803  1.058415  0.024330  0.294869  0.584800  ...  0.059616  0.214205   \n",
       " 284804  3.031260 -0.296827  0.708417  0.432454  ...  0.001396  0.232045   \n",
       " 284805  0.623708 -0.686180  0.679145  0.392087  ...  0.127434  0.265245   \n",
       " 284806 -0.649617  1.577006 -0.414650  0.486180  ...  0.382948  0.261057   \n",
       " \n",
       "              V22       V23       V24       V25       V26       V27       V28  \\\n",
       " 0       0.277838 -0.110474  0.066928  0.128539 -0.189115  0.133558 -0.021053   \n",
       " 1      -0.638672  0.101288 -0.339846  0.167170  0.125895 -0.008983  0.014724   \n",
       " 2       0.771679  0.909412 -0.689281 -0.327642 -0.139097 -0.055353 -0.059752   \n",
       " 3       0.005274 -0.190321 -1.175575  0.647376 -0.221929  0.062723  0.061458   \n",
       " 4       0.798278 -0.137458  0.141267 -0.206010  0.502292  0.219422  0.215153   \n",
       " ...          ...       ...       ...       ...       ...       ...       ...   \n",
       " 284802  0.111864  1.014480 -0.509348  1.436807  0.250034  0.943651  0.823731   \n",
       " 284803  0.924384  0.012463 -1.016226 -0.606624 -0.395255  0.068472 -0.053527   \n",
       " 284804  0.578229 -0.037501  0.640134  0.265745 -0.087371  0.004455 -0.026561   \n",
       " 284805  0.800049 -0.163298  0.123205 -0.569159  0.546668  0.108821  0.104533   \n",
       " 284806  0.643078  0.376777  0.008797 -0.473649 -0.818267 -0.002415  0.013649   \n",
       " \n",
       "         Amount  \n",
       " 0       149.62  \n",
       " 1         2.69  \n",
       " 2       378.66  \n",
       " 3       123.50  \n",
       " 4        69.99  \n",
       " ...        ...  \n",
       " 284802    0.77  \n",
       " 284803   24.79  \n",
       " 284804   67.88  \n",
       " 284805   10.00  \n",
       " 284806  217.00  \n",
       " \n",
       " [284807 rows x 30 columns],\n",
       " 0         0\n",
       " 1         0\n",
       " 2         0\n",
       " 3         0\n",
       " 4         0\n",
       "          ..\n",
       " 284802    0\n",
       " 284803    0\n",
       " 284804    0\n",
       " 284805    0\n",
       " 284806    0\n",
       " Name: Class, Length: 284807, dtype: int64)"
      ]
     },
     "execution_count": 23,
     "metadata": {},
     "output_type": "execute_result"
    }
   ],
   "source": [
    "credit_target = 'Class'\n",
    "X_credit, y_credit = preprocess_data(credit_df, credit_target)\n",
    "X_credit, y_credit"
   ]
  },
  {
   "cell_type": "code",
   "execution_count": 24,
   "metadata": {},
   "outputs": [],
   "source": [
    "X_fraud_train, X_fraud_test, y_fraud_train, y_fraud_test = stratified_split(X_fraud, y_fraud)\n"
   ]
  },
  {
   "cell_type": "code",
   "execution_count": 25,
   "metadata": {},
   "outputs": [],
   "source": [
    "X_credit_train, X_credit_test, y_credit_train, y_credit_test = stratified_split(X_credit, y_credit)\n"
   ]
  },
  {
   "cell_type": "code",
   "execution_count": 26,
   "metadata": {},
   "outputs": [
    {
     "name": "stderr",
     "output_type": "stream",
     "text": [
      "c:\\Users\\Darkles\\10academy\\env\\Lib\\site-packages\\sklearn\\linear_model\\_logistic.py:465: ConvergenceWarning: lbfgs failed to converge (status=1):\n",
      "STOP: TOTAL NO. OF ITERATIONS REACHED LIMIT.\n",
      "\n",
      "Increase the number of iterations (max_iter) or scale the data as shown in:\n",
      "    https://scikit-learn.org/stable/modules/preprocessing.html\n",
      "Please also refer to the documentation for alternative solver options:\n",
      "    https://scikit-learn.org/stable/modules/linear_model.html#logistic-regression\n",
      "  n_iter_i = _check_optimize_result(\n"
     ]
    },
    {
     "name": "stdout",
     "output_type": "stream",
     "text": [
      "\n",
      "=== LogisticRegression ===\n",
      "              precision    recall  f1-score   support\n",
      "\n",
      "           0       0.91      0.98      0.94     27393\n",
      "           1       0.03      0.00      0.01      2830\n",
      "\n",
      "    accuracy                           0.89     30223\n",
      "   macro avg       0.47      0.49      0.48     30223\n",
      "weighted avg       0.82      0.89      0.86     30223\n",
      "\n",
      "AUC-ROC: 0.7514\n",
      "\n",
      "=== DecisionTree ===\n",
      "              precision    recall  f1-score   support\n",
      "\n",
      "           0       0.95      0.94      0.95     27393\n",
      "           1       0.50      0.57      0.53      2830\n",
      "\n",
      "    accuracy                           0.91     30223\n",
      "   macro avg       0.73      0.76      0.74     30223\n",
      "weighted avg       0.91      0.91      0.91     30223\n",
      "\n",
      "AUC-ROC: 0.7553\n",
      "\n",
      "=== RandomForest ===\n",
      "              precision    recall  f1-score   support\n",
      "\n",
      "           0       0.95      1.00      0.98     27393\n",
      "           1       1.00      0.54      0.70      2830\n",
      "\n",
      "    accuracy                           0.96     30223\n",
      "   macro avg       0.98      0.77      0.84     30223\n",
      "weighted avg       0.96      0.96      0.95     30223\n",
      "\n",
      "AUC-ROC: 0.7732\n",
      "\n",
      "=== GradientBoosting ===\n",
      "              precision    recall  f1-score   support\n",
      "\n",
      "           0       0.95      1.00      0.98     27393\n",
      "           1       1.00      0.54      0.70      2830\n",
      "\n",
      "    accuracy                           0.96     30223\n",
      "   macro avg       0.98      0.77      0.84     30223\n",
      "weighted avg       0.96      0.96      0.95     30223\n",
      "\n",
      "AUC-ROC: 0.7787\n"
     ]
    }
   ],
   "source": [
    "models = train_all_models(X_fraud_train, y_fraud_train, X_fraud_test, y_fraud_test)\n"
   ]
  },
  {
   "cell_type": "code",
   "execution_count": 27,
   "metadata": {},
   "outputs": [
    {
     "name": "stderr",
     "output_type": "stream",
     "text": [
      "2025/02/17 15:14:32 WARNING mlflow.models.model: Model logged without a signature and input example. Please set `input_example` parameter when logging the model to auto infer the model signature.\n"
     ]
    },
    {
     "name": "stdout",
     "output_type": "stream",
     "text": [
      "Logged LogisticRegression to MLflow.\n"
     ]
    },
    {
     "name": "stderr",
     "output_type": "stream",
     "text": [
      "2025/02/17 15:14:57 WARNING mlflow.models.model: Model logged without a signature and input example. Please set `input_example` parameter when logging the model to auto infer the model signature.\n"
     ]
    },
    {
     "name": "stdout",
     "output_type": "stream",
     "text": [
      "Logged DecisionTree to MLflow.\n"
     ]
    },
    {
     "name": "stderr",
     "output_type": "stream",
     "text": [
      "2025/02/17 15:15:11 WARNING mlflow.models.model: Model logged without a signature and input example. Please set `input_example` parameter when logging the model to auto infer the model signature.\n"
     ]
    },
    {
     "name": "stdout",
     "output_type": "stream",
     "text": [
      "Logged RandomForest to MLflow.\n"
     ]
    },
    {
     "name": "stderr",
     "output_type": "stream",
     "text": [
      "2025/02/17 15:15:23 WARNING mlflow.models.model: Model logged without a signature and input example. Please set `input_example` parameter when logging the model to auto infer the model signature.\n"
     ]
    },
    {
     "name": "stdout",
     "output_type": "stream",
     "text": [
      "Logged GradientBoosting to MLflow.\n"
     ]
    }
   ],
   "source": [
    "for name, model in models.items():\n",
    "    log_experiment(model, name, X_fraud_test, y_fraud_test)\n"
   ]
  },
  {
   "cell_type": "code",
   "execution_count": null,
   "metadata": {},
   "outputs": [],
   "source": []
  }
 ],
 "metadata": {
  "kernelspec": {
   "display_name": "env",
   "language": "python",
   "name": "python3"
  },
  "language_info": {
   "codemirror_mode": {
    "name": "ipython",
    "version": 3
   },
   "file_extension": ".py",
   "mimetype": "text/x-python",
   "name": "python",
   "nbconvert_exporter": "python",
   "pygments_lexer": "ipython3",
   "version": "3.12.1"
  }
 },
 "nbformat": 4,
 "nbformat_minor": 2
}
